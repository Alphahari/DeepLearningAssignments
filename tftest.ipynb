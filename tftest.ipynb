{
 "cells": [
  {
   "cell_type": "code",
   "execution_count": 1,
   "metadata": {},
   "outputs": [
    {
     "name": "stdout",
     "output_type": "stream",
     "text": [
      "Built with CUDA: True\n",
      "CUDA version: 64_112\n",
      "CUDNN version: 64_8\n"
     ]
    }
   ],
   "source": [
    "import tensorflow as tf\n",
    "print(\"Built with CUDA:\", tf.test.is_built_with_cuda())\n",
    "print(\"CUDA version:\", tf.sysconfig.get_build_info()[\"cuda_version\"])\n",
    "print(\"CUDNN version:\", tf.sysconfig.get_build_info()[\"cudnn_version\"])\n"
   ]
  },
  {
   "cell_type": "code",
   "execution_count": 2,
   "metadata": {},
   "outputs": [
    {
     "name": "stdout",
     "output_type": "stream",
     "text": [
      "Number of GPUs: 1\n",
      "GPU 0: PhysicalDevice(name='/physical_device:GPU:0', device_type='GPU')\n"
     ]
    }
   ],
   "source": [
    "# List all GPUs\n",
    "gpus = tf.config.list_physical_devices('GPU')\n",
    "print(f\"Number of GPUs: {len(gpus)}\")\n",
    "for i, gpu in enumerate(gpus):\n",
    "    print(f\"GPU {i}: {gpu}\")\n"
   ]
  },
  {
   "cell_type": "code",
   "execution_count": 3,
   "metadata": {},
   "outputs": [
    {
     "name": "stdout",
     "output_type": "stream",
     "text": [
      "Number of GPUs: 1\n",
      "GPU 0 Name: /physical_device:GPU:0\n",
      "Using device: GPU\n"
     ]
    }
   ],
   "source": [
    "import tensorflow as tf\n",
    "\n",
    "# Check the number of GPUs\n",
    "gpu_devices = tf.config.list_physical_devices('GPU')\n",
    "print(\"Number of GPUs:\", len(gpu_devices))\n",
    "\n",
    "# Get the name of each GPU\n",
    "for i, gpu in enumerate(gpu_devices):\n",
    "    print(f\"GPU {i} Name:\", gpu.name)\n",
    "\n",
    "# Check which device is in use\n",
    "device = \"GPU\" if len(gpu_devices) > 0 else \"CPU\"\n",
    "print(\"Using device:\", device)\n"
   ]
  },
  {
   "cell_type": "code",
   "execution_count": 4,
   "metadata": {},
   "outputs": [
    {
     "name": "stdout",
     "output_type": "stream",
     "text": [
      "Number of GPUs: 1\n",
      "GPU Name: NVIDIA GeForce RTX 3060 Laptop GPU\n",
      "Using device: GPU\n"
     ]
    }
   ],
   "source": [
    "import tensorflow as tf\n",
    "import subprocess\n",
    "\n",
    "# Check the number of GPUs\n",
    "gpu_devices = tf.config.list_physical_devices('GPU')\n",
    "print(\"Number of GPUs:\", len(gpu_devices))\n",
    "\n",
    "# Use subprocess to run nvidia-smi and get the GPU name\n",
    "if gpu_devices:\n",
    "    # Run nvidia-smi and parse the output to get GPU name\n",
    "    result = subprocess.run([\"nvidia-smi\", \"--query-gpu=name\", \"--format=csv,noheader\"], capture_output=True, text=True)\n",
    "    gpu_name = result.stdout.strip()\n",
    "    print(\"GPU Name:\", gpu_name)\n",
    "else:\n",
    "    print(\"No GPU detected\")\n",
    "\n",
    "# Check which device is in use\n",
    "device = \"GPU\" if len(gpu_devices) > 0 else \"CPU\"\n",
    "print(\"Using device:\", device)\n"
   ]
  },
  {
   "cell_type": "code",
   "execution_count": null,
   "metadata": {},
   "outputs": [],
   "source": []
  }
 ],
 "metadata": {
  "kernelspec": {
   "display_name": "tf_env",
   "language": "python",
   "name": "python3"
  },
  "language_info": {
   "codemirror_mode": {
    "name": "ipython",
    "version": 3
   },
   "file_extension": ".py",
   "mimetype": "text/x-python",
   "name": "python",
   "nbconvert_exporter": "python",
   "pygments_lexer": "ipython3",
   "version": "3.8.20"
  }
 },
 "nbformat": 4,
 "nbformat_minor": 2
}
