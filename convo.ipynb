{
 "cells": [
  {
   "cell_type": "code",
   "execution_count": 7,
   "metadata": {},
   "outputs": [],
   "source": [
    "import tensorflow as tf\n",
    "from tensorflow.keras import datasets, layers, models, optimizers\n",
    "from tensorflow.keras.preprocessing.image import ImageDataGenerator\n",
    "from tensorflow.keras.callbacks import ReduceLROnPlateau\n",
    "import numpy as np\n",
    "import matplotlib.pyplot as plt\n",
    "\n",
    "# Load and preprocess MNIST data\n",
    "(train_images, train_labels), (test_images, test_labels) = datasets.mnist.load_data()\n",
    "train_images = train_images.reshape((train_images.shape[0], 28, 28, 1)).astype('float32') / 255\n",
    "test_images = test_images.reshape((test_images.shape[0], 28, 28, 1)).astype('float32') / 255"
   ]
  },
  {
   "cell_type": "code",
   "execution_count": 8,
   "metadata": {},
   "outputs": [
    {
     "name": "stdout",
     "output_type": "stream",
     "text": [
      "Epoch 1/20\n",
      "1875/1875 [==============================] - 30s 12ms/step - loss: 0.8162 - accuracy: 0.7325\n",
      "Epoch 2/20\n",
      "1875/1875 [==============================] - 23s 12ms/step - loss: 0.2797 - accuracy: 0.9363\n",
      "Epoch 3/20\n",
      "1875/1875 [==============================] - 22s 12ms/step - loss: 0.2868 - accuracy: 0.9429\n",
      "Epoch 4/20\n",
      "1875/1875 [==============================] - 22s 12ms/step - loss: 0.3100 - accuracy: 0.9421\n",
      "Epoch 5/20\n",
      "1875/1875 [==============================] - 22s 12ms/step - loss: 0.4159 - accuracy: 0.9417\n",
      "Epoch 6/20\n",
      "1875/1875 [==============================] - 22s 12ms/step - loss: 0.3671 - accuracy: 0.9387\n",
      "Epoch 7/20\n",
      "1875/1875 [==============================] - 22s 12ms/step - loss: 0.4023 - accuracy: 0.9358\n",
      "Epoch 8/20\n",
      "1875/1875 [==============================] - 22s 12ms/step - loss: 0.4261 - accuracy: 0.9309\n",
      "Epoch 9/20\n",
      "1875/1875 [==============================] - 22s 12ms/step - loss: 0.4707 - accuracy: 0.9258\n",
      "Epoch 10/20\n",
      "1875/1875 [==============================] - 22s 12ms/step - loss: 0.5337 - accuracy: 0.9209\n",
      "Epoch 11/20\n",
      "1875/1875 [==============================] - 22s 12ms/step - loss: 0.5812 - accuracy: 0.9095\n",
      "Epoch 12/20\n",
      "1875/1875 [==============================] - 22s 12ms/step - loss: 0.7205 - accuracy: 0.9025\n",
      "Epoch 13/20\n",
      "1875/1875 [==============================] - 23s 12ms/step - loss: 0.9379 - accuracy: 0.8881\n",
      "Epoch 14/20\n",
      "1875/1875 [==============================] - 23s 12ms/step - loss: 0.7999 - accuracy: 0.8933\n",
      "Epoch 15/20\n",
      "1875/1875 [==============================] - 23s 12ms/step - loss: 0.7937 - accuracy: 0.8916\n",
      "Epoch 16/20\n",
      "1875/1875 [==============================] - 22s 12ms/step - loss: 0.8679 - accuracy: 0.8817\n",
      "Epoch 17/20\n",
      "1875/1875 [==============================] - 22s 12ms/step - loss: 0.8740 - accuracy: 0.8674\n",
      "Epoch 18/20\n",
      "1875/1875 [==============================] - 22s 12ms/step - loss: 1.0064 - accuracy: 0.8685\n",
      "Epoch 19/20\n",
      "1875/1875 [==============================] - 22s 12ms/step - loss: 0.9448 - accuracy: 0.8518\n",
      "Epoch 20/20\n",
      "1875/1875 [==============================] - 22s 12ms/step - loss: 0.9807 - accuracy: 0.8487\n"
     ]
    }
   ],
   "source": [
    "#some arctitecture\n",
    "import tensorflow as tf\n",
    "from tensorflow import keras\n",
    "from tensorflow.keras import layers\n",
    "from functools import partial\n",
    "\n",
    "DefaultConvo2D = partial(layers.Conv2D, kernel_size=3, activation = 'relu', padding=\"SAME\")\n",
    "\n",
    "my_model = keras.models.Sequential([\n",
    "    DefaultConvo2D(filters=64,kernel_size=7,input_shape=[28,28,1]),\n",
    "    layers.MaxPooling2D(pool_size=2),\n",
    "    DefaultConvo2D(filters=128),\n",
    "    DefaultConvo2D(filters=128),\n",
    "    layers.MaxPooling2D(pool_size=2),\n",
    "    DefaultConvo2D(filters=256),\n",
    "    DefaultConvo2D(filters=256),\n",
    "    layers.MaxPooling2D(pool_size=2),\n",
    "    layers.Flatten(),\n",
    "    layers.Dense(units=128,activation='relu'),\n",
    "    layers.Dropout(0.5),\n",
    "    layers.Dense(units=64,activation='relu'),\n",
    "    layers.Dropout(0.5),\n",
    "    layers.Dense(units=32,activation='relu'),\n",
    "    layers.Dropout(0.5),\n",
    "    layers.Dense(units=10, activation='softmax'),\n",
    "])\n",
    "\n",
    "my_model.compile(loss=\"sparse_categorical_crossentropy\",metrics=[\"accuracy\"])\n",
    "\n",
    "hist=my_model.fit(train_images,train_labels,epochs=20)"
   ]
  },
  {
   "cell_type": "code",
   "execution_count": 9,
   "metadata": {},
   "outputs": [
    {
     "name": "stdout",
     "output_type": "stream",
     "text": [
      "313/313 [==============================] - 2s 4ms/step - loss: 0.4827 - accuracy: 0.9182\n",
      "Test accuracy: 0.9182000160217285\n"
     ]
    }
   ],
   "source": [
    "test_loss, test_acc = my_model.evaluate(test_images, test_labels)\n",
    "print(f\"Test accuracy: {test_acc}\")"
   ]
  },
  {
   "cell_type": "code",
   "execution_count": 10,
   "metadata": {},
   "outputs": [],
   "source": [
    "#SE\n",
    "\n",
    "# import tensorflow as tf\n",
    "# from tensorflow import keras\n",
    "# from functools import partial\n",
    "# DefaultConv2D = partial(keras.layers.Conv2D, kernel_size=3, activation = 'relu', padding=\"SAME\")\n",
    "\n",
    "# class ResidualUnit(keras.layers.Layer):\n",
    "#     def __init__(self, filters, strides=1, activation=\"relu\", **kwargs):\n",
    "#         super().__init__(**kwargs)\n",
    "#         self.activation=keras.activations.get(activation)\n",
    "#         self.main_layers = [\n",
    "#             DefaultConv2D(filters,strides=strides),\n",
    "#             keras.layers.BatchNormalization(),\n",
    "#             self.activation,\n",
    "#             DefaultConv2D(filters),\n",
    "#             keras.layers.BatchNormalization()\n",
    "#         ]\n",
    "#         self.skip_layers = []\n",
    "#         if strides > 1:\n",
    "#             self.skip_layers = [\n",
    "#                 DefaultConv2D(filters, kernel_size=1,strides=strides),\n",
    "#                 keras.layers.BatchNormalization()\n",
    "#             ]\n",
    "#     def call(self, inputs):\n",
    "#         z=inputs\n",
    "#         for layer in self.main_layers:\n",
    "#             z = layer(z)\n",
    "#         skip_z=inputs\n",
    "#         for layer in self.skip_layers:\n",
    "#             skip_z=layer(skip_z)\n",
    "#         return self.activation(z + skip_z)\n",
    "        \n",
    "# model=keras.models.Sequential()\n",
    "# model.add(DefaultConv2D(64,kernel_size=7,strides=2,input_shape=[28,28,1]))\n",
    "# model.add(keras.layers.BatchNormalization())\n",
    "# model.add(keras.layers.Activation('relu'))\n",
    "# model.add(keras.layers.MaxPool2D(pool_size=3, strides=2,padding='same'))\n",
    "# prev_filters=64\n",
    "# for filters in [64]*3+[128]*4+[256]*6+[512]*3:\n",
    "#     strides=1 if filters==prev_filters else 2\n",
    "#     model.add(ResidualUnit(filters,strides=strides))\n",
    "#     prev_filters=filters\n",
    "# model.add(keras.layers.GlobalAvgPool2D())\n",
    "# model.add(keras.layers.Flatten())\n",
    "# model.add(keras.layers.Dense(10,activation='softmax'))\n",
    "\n",
    "# model.summary()"
   ]
  },
  {
   "cell_type": "code",
   "execution_count": null,
   "metadata": {},
   "outputs": [],
   "source": [
    "import tensorflow as tf\n",
    "from tensorflow import keras"
   ]
  },
  {
   "cell_type": "code",
   "execution_count": null,
   "metadata": {},
   "outputs": [],
   "source": [
    "model=keras.applications.resnet50.ResNet50(weights=\"imagenet\")\n",
    "images_resized=tf.image.resize(images,[244,244])\n",
    "input = keras.applications.resnet50.preprocess_input(images_resized*255)\n",
    "Y_proba=model.predict(inputs)\n",
    "top_k = keras.applications.resnet50.decode_predictions(Y_proba,top=3)\n",
    "for image_index in range(len(images)):\n",
    "    print(\"image #{}\".format(image_index))\n",
    "    for class_id,name,Y_proba in top_k[image_index]:\n",
    "        print(\"{}-{:12s}{.2f}\")"
   ]
  }
 ],
 "metadata": {
  "kernelspec": {
   "display_name": "tf_env",
   "language": "python",
   "name": "python3"
  },
  "language_info": {
   "codemirror_mode": {
    "name": "ipython",
    "version": 3
   },
   "file_extension": ".py",
   "mimetype": "text/x-python",
   "name": "python",
   "nbconvert_exporter": "python",
   "pygments_lexer": "ipython3",
   "version": "3.8.20"
  }
 },
 "nbformat": 4,
 "nbformat_minor": 2
}
