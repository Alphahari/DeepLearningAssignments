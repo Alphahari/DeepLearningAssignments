{
 "cells": [
  {
   "cell_type": "code",
   "execution_count": null,
   "metadata": {},
   "outputs": [
    {
     "name": "stdout",
     "output_type": "stream",
     "text": [
      "XOR(0, 0)=0\n",
      "XOR(0, 1)=1\n",
      "XOR(1, 0)=1\n",
      "XOR(1, 1)=0\n"
     ]
    }
   ],
   "source": [
    "import numpy as np\n",
    "\n",
    "def unit_step(v):\n",
    "    return 1 if v >= 0 else 0\n",
    "\n",
    "def perceptron_model(x, weights, bias):\n",
    "    weighted_sum = np.dot(weights, x) + bias\n",
    "    return unit_step(weighted_sum)\n",
    "\n",
    "def train_perceptron(X, y, weights, bias, learning_rate=0.01, max_epochs=1000, tolerance=1e-4, patience=10, verbose=False):\n",
    "    prev_weights = np.copy(weights)\n",
    "    patience_counter = 0\n",
    "\n",
    "    for epoch in range(max_epochs):\n",
    "        total_error = 0\n",
    "        for i in range(len(X)):\n",
    "            y_pred = perceptron_model(X[i], weights, bias)\n",
    "            error = y[i] - y_pred\n",
    "            total_error += abs(error)\n",
    "\n",
    "            # Update weights and bias\n",
    "            weights += learning_rate * error * X[i]\n",
    "            bias += learning_rate * error\n",
    "\n",
    "        # Check for small weight change\n",
    "        weight_change = np.sum(np.abs(weights - prev_weights))\n",
    "        if weight_change < tolerance:\n",
    "            if verbose:\n",
    "                print(f\"Training stopped due to small weight change in epoch {epoch}\")\n",
    "            break\n",
    "\n",
    "        prev_weights = np.copy(weights)\n",
    "\n",
    "        # Early stopping based on zero total error\n",
    "        if total_error == 0:\n",
    "            if verbose:\n",
    "                print(f\"Training stopped due to zero classification error in epoch {epoch}\")\n",
    "            break\n",
    "\n",
    "        # Patience mechanism\n",
    "        if total_error > 0:\n",
    "            patience_counter += 1\n",
    "            if patience_counter >= patience:\n",
    "                if verbose:\n",
    "                    print(f\"Training stopped due to lack of improvement in epoch {epoch}\")\n",
    "                break\n",
    "        else:\n",
    "            patience_counter = 0  # Reset counter if there was improvement\n",
    "\n",
    "    return weights, bias\n",
    "\n",
    "def logic_gate(x, weights, bias):\n",
    "    return perceptron_model(x, weights, bias)\n",
    "\n",
    "def XOR_logic_function(x):\n",
    "    y1 = logic_gate(x, np.array([1, 1]), -1.5)\n",
    "    y2 = logic_gate(x, np.array([1, 1]), -0.5) \n",
    "    y3 = logic_gate(np.array([y1]), np.array([-1]), 0.5) \n",
    "\n",
    "    return logic_gate(np.array([y2, y3]), np.array([1, 1]), -1.5)  # Final AND gate\n",
    "\n",
    "# Test the XOR function with all possible inputs\n",
    "X = np.array([[0, 0], [0, 1], [1, 0], [1, 1]])\n",
    "Y = np.array([0, 1, 1, 0])\n",
    "\n",
    "for x in X:\n",
    "    print(f\"XOR({x[0]}, {x[1]}) = {XOR_logic_function(x)}\")\n"
   ]
  }
 ],
 "metadata": {
  "kernelspec": {
   "display_name": "Python 3",
   "language": "python",
   "name": "python3"
  },
  "language_info": {
   "codemirror_mode": {
    "name": "ipython",
    "version": 3
   },
   "file_extension": ".py",
   "mimetype": "text/x-python",
   "name": "python",
   "nbconvert_exporter": "python",
   "pygments_lexer": "ipython3",
   "version": "3.12.7"
  }
 },
 "nbformat": 4,
 "nbformat_minor": 2
}
